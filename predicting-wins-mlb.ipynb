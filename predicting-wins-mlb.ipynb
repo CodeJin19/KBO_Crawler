{
 "cells": [
  {
   "cell_type": "markdown",
   "metadata": {
    "_cell_guid": "ba75fde1-04db-4762-a988-e99ec368822d",
    "_uuid": "50301fccf37d37c2c8275fb3426d21ab944993e2"
   },
   "source": [
    "## SMDA Project- Jeremy Dorsey\n",
    "1. Introduction\n",
    "For this project, I collected statistics from this year’s Major League Baseball (MLB) season.\n",
    "I gathered many variables including wins (Wins); runs scored (RS); on-base percentage (OBP); earned run average (ERA); walks and hits per inning pitched (WHIP); fielding percentage (FPCT); defensive runs saved (DRS); weighted on-base average (wOBA); and fielding independent pitching (FIP). \n",
    "After this analysis, I hope to be able to see not only which variables predict wins, but also which kind of statistics predict wins better.\n",
    "I would also like to answer the following questions: \n",
    "After finding which statistics predict wins best, which other statistics contribute highly to those predictors? What should teams look for in some players when evaluating or putting a team together?"
   ]
  },
  {
   "cell_type": "code",
   "execution_count": 1,
   "metadata": {
    "_cell_guid": "045f8234-f81b-44ab-b1fa-a6a2e139382e",
    "_execution_state": "idle",
    "_uuid": "ecebf07d4948e15564343ca0b8fa0642fb09e83c"
   },
   "outputs": [
    {
     "ename": "NameError",
     "evalue": "name 'library' is not defined",
     "output_type": "error",
     "traceback": [
      "\u001b[1;31m---------------------------------------------------------------------------\u001b[0m",
      "\u001b[1;31mNameError\u001b[0m                                 Traceback (most recent call last)",
      "\u001b[1;32m<ipython-input-1-fea339db56c2>\u001b[0m in \u001b[0;36m<module>\u001b[1;34m\u001b[0m\n\u001b[0;32m      3\u001b[0m \u001b[1;31m# For example, here's several helpful packages to load in\u001b[0m\u001b[1;33m\u001b[0m\u001b[1;33m\u001b[0m\u001b[1;33m\u001b[0m\u001b[0m\n\u001b[0;32m      4\u001b[0m \u001b[1;33m\u001b[0m\u001b[0m\n\u001b[1;32m----> 5\u001b[1;33m \u001b[0mlibrary\u001b[0m\u001b[1;33m(\u001b[0m\u001b[0mggplot2\u001b[0m\u001b[1;33m)\u001b[0m \u001b[1;31m# Data visualization\u001b[0m\u001b[1;33m\u001b[0m\u001b[1;33m\u001b[0m\u001b[0m\n\u001b[0m\u001b[0;32m      6\u001b[0m \u001b[0mlibrary\u001b[0m\u001b[1;33m(\u001b[0m\u001b[0mreadr\u001b[0m\u001b[1;33m)\u001b[0m \u001b[1;31m# CSV file I/O, e.g. the read_csv function\u001b[0m\u001b[1;33m\u001b[0m\u001b[1;33m\u001b[0m\u001b[0m\n\u001b[0;32m      7\u001b[0m \u001b[1;33m\u001b[0m\u001b[0m\n",
      "\u001b[1;31mNameError\u001b[0m: name 'library' is not defined"
     ]
    }
   ],
   "source": [
    "# This R environment comes with all of CRAN preinstalled, as well as many other helpful packages\n",
    "# The environment is defined by the kaggle/rstats docker image: https://github.com/kaggle/docker-rstats\n",
    "# For example, here's several helpful packages to load in \n",
    "\n",
    "library(ggplot2) # Data visualization\n",
    "library(readr) # CSV file I/O, e.g. the read_csv function\n",
    "\n",
    "# Input data files are available in the \"../input/\" directory.\n",
    "# For example, running this (by clicking run or pressing Shift+Enter) will list the files in the input directory\n",
    "\n",
    "system(\"ls ../input/SMDAProjectdata.txt\")\n",
    "MLBData <- read_csv(\"../input/SMDAProjectdata.txt\")\n",
    "\n",
    "\n",
    "# Any results you write to the current directory are saved as output."
   ]
  },
  {
   "cell_type": "code",
   "execution_count": 2,
   "metadata": {
    "_cell_guid": "2e7f3269-f900-4741-bde4-b980ea7a747e",
    "_uuid": "e9c5f6a6af2a602f135dd284b61f4ca501538d97"
   },
   "outputs": [
    {
     "ename": "NameError",
     "evalue": "name 'data' is not defined",
     "output_type": "error",
     "traceback": [
      "\u001b[1;31m---------------------------------------------------------------------------\u001b[0m",
      "\u001b[1;31mNameError\u001b[0m                                 Traceback (most recent call last)",
      "\u001b[1;32m<ipython-input-2-5f495bbf70c7>\u001b[0m in \u001b[0;36m<module>\u001b[1;34m\u001b[0m\n\u001b[1;32m----> 1\u001b[1;33m \u001b[0mdata\u001b[0m \u001b[1;33m<\u001b[0m\u001b[1;33m-\u001b[0m \u001b[0mread\u001b[0m\u001b[1;33m.\u001b[0m\u001b[0mtable\u001b[0m\u001b[1;33m(\u001b[0m\u001b[1;34m\"../input/SMDAProjectdata.txt\"\u001b[0m\u001b[1;33m,\u001b[0m \u001b[0msep\u001b[0m \u001b[1;33m=\u001b[0m \u001b[1;34m\"\"\u001b[0m\u001b[1;33m,\u001b[0m \u001b[0mheader\u001b[0m \u001b[1;33m=\u001b[0m \u001b[0mT\u001b[0m\u001b[1;33m)\u001b[0m\u001b[1;33m\u001b[0m\u001b[1;33m\u001b[0m\u001b[0m\n\u001b[0m",
      "\u001b[1;31mNameError\u001b[0m: name 'data' is not defined"
     ]
    }
   ],
   "source": [
    "data <- read.table(\"../input/SMDAProjectdata.txt\", sep = \"\", header = T)\n"
   ]
  },
  {
   "cell_type": "code",
   "execution_count": 3,
   "metadata": {
    "_cell_guid": "a1caf26b-baf1-4258-a739-61eaaa852a79",
    "_uuid": "35198c92a7860c726a260f3c879101581fb20044"
   },
   "outputs": [],
   "source": [
    "head(data)"
   ]
  },
  {
   "cell_type": "code",
   "execution_count": 4,
   "metadata": {
    "_cell_guid": "ffe5b6f7-226e-4a11-b041-3a8e79461cf8",
    "_uuid": "765164c3f5985268f12c440185c843ae7d4d41e0"
   },
   "outputs": [],
   "source": [
    "data$RS"
   ]
  },
  {
   "cell_type": "code",
   "execution_count": 6,
   "metadata": {
    "_cell_guid": "804c6c67-4798-4812-ac0b-d3bc1c68ad93",
    "_uuid": "f5a856abb981f30b7bc8f47674a946dc20f70b4b"
   },
   "outputs": [],
   "source": [
    "#Scatterplots\n",
    "plot(data$RS,data$WINS)\n",
    "plot(data$OBP,data$WINS)\n",
    "plot(data$ERA,data$WINS)\n",
    "plot(data$WHIP,data$WINS)\n",
    "plot(data$FPCT,data$WINS)\n",
    "plot(data$DRS,data$WINS)\n",
    "plot(data$wOBA,data$WINS)\n",
    "plot(data$FIP,data$WINS)\n"
   ]
  },
  {
   "cell_type": "markdown",
   "metadata": {
    "_cell_guid": "fc70724d-cc29-4fb2-8d7f-330e1d6a41eb",
    "_uuid": "c7973d6a89bc0d1738dac678fdfd7923c57c570f"
   },
   "source": [
    "### Discussion\n",
    "Many of the variables had a decent linear with wins. ERA looks to have the highest negative correlation with wins and On-base Percentage looks to have the highest positive correlation."
   ]
  },
  {
   "cell_type": "code",
   "execution_count": 8,
   "metadata": {
    "_uuid": "18d081d10a78fc7dccdd20ddc3e13f6c0ff11f0a"
   },
   "outputs": [],
   "source": [
    "##Correlation matrix\n",
    "cor(cbind(data$RS,data$OBP,data$ERA,data$WHIP,data$FPCT,data$DRS,data$wOBA,data$FIP))"
   ]
  },
  {
   "cell_type": "code",
   "execution_count": 9,
   "metadata": {
    "_uuid": "c4ed7d1d8f08a87418dc2f717947dcabd737c2dc"
   },
   "outputs": [],
   "source": [
    "mod.RS<-lm(data$RS~data$OBP+data$ERA+data$WHIP+data$FPCT+data$DRS+data$wOBA+data$FIP)\n",
    "summary(mod.RS)\n",
    "#VIF.RS<-1/(1-.8874)\n",
    "#VIF.RS"
   ]
  },
  {
   "cell_type": "code",
   "execution_count": 10,
   "metadata": {
    "_uuid": "5361531711fbe19f93a0c9f19c9da15daa473597"
   },
   "outputs": [],
   "source": [
    "mod.wOBA<-lm(data$wOBA~data$RS+data$OBP+data$ERA+data$WHIP+data$FPCT+data$DRS+data$FIP)\n",
    "summary(mod.wOBA)\n",
    "#VIF.wOBA<-1/(1-.9069)\n",
    "#VIF.wOBA\n",
    "mod.OBP<-lm(data$OBP~data$RS+data$ERA+data$WHIP+data$FPCT+data$DRS+data$wOBA+data$FIP)\n",
    "summary(mod.OBP)\n",
    "#VIF.OBP<-1/(1-.7909)\n",
    "#VIF.OBP\n",
    "mod.ERA<-lm(data$ERA~data$RS+data$OBP+data$WHIP+data$FPCT+data$DRS+data$wOBA+data$FIP)\n",
    "summary(mod.ERA)\n",
    "#VIF.ERA<-1/(1-.8778)\n",
    "#VIF.ERA\n",
    "mod.WHIP<-lm(data$WHIP~data$RS+data$OBP+data$ERA+data$FPCT+data$DRS+data$wOBA+data$FIP)\n",
    "summary(mod.WHIP)\n",
    "#VIF.WHIP<-1/(1-.8737)\n",
    "#VIF.WHIP\n",
    "mod.FIP<-lm(data$FIP~data$RS+data$OBP+data$ERA+data$WHIP+data$FPCT+data$DRS+data$wOBA)\n",
    "summary(mod.FIP)\n",
    "#VIF.FIP<-1/(1-.687)\n",
    "#VIF.FIP\n"
   ]
  },
  {
   "cell_type": "code",
   "execution_count": 11,
   "metadata": {
    "_uuid": "853097675a746c9860510ecf0b0ef664ee433e98"
   },
   "outputs": [],
   "source": [
    "##full model for R^2\n",
    "mod1<-lm(data$WINS~data$RS+data$OBP+data$ERA+data$WHIP+data$FPCT+data$DRS+data$wOBA+data$FIP)\n",
    "summary(mod1)"
   ]
  },
  {
   "cell_type": "markdown",
   "metadata": {
    "_uuid": "c3739c53888263f4b16d6936f0a693c03297544e"
   },
   "source": [
    "## Next steps in discussion\n",
    "A small p-value (typically ≤ 0.05) indicates strong evidence against the null hypothesis, so you reject the null hypothesis. A large p-value (> 0.05) indicates weak evidence against the null hypothesis, so you fail to reject the null hypothesis. We need to figure out whether or not our response variable (WINS) has any relation with our other eight predictor variables.\n",
    "![P-value explainer](http://imgs.xkcd.com/comics/p_values.png)"
   ]
  },
  {
   "cell_type": "code",
   "execution_count": 13,
   "metadata": {
    "_uuid": "814fd28eaf0ecb61674cc5c9482170865e025ab5"
   },
   "outputs": [],
   "source": [
    "##F-test\n",
    "pf(15.59,8,21,lower.tail=F)"
   ]
  },
  {
   "cell_type": "code",
   "execution_count": 14,
   "metadata": {
    "_uuid": "f11b05455d1309be7582afa7a031d48027c0bc65"
   },
   "outputs": [],
   "source": [
    "library(MASS)"
   ]
  },
  {
   "cell_type": "code",
   "execution_count": 15,
   "metadata": {
    "_uuid": "a8fbe13a9430b365d9d82cd47ca9ef35b09fd1de"
   },
   "outputs": [],
   "source": [
    "optimal1<-stepAIC(mod1)\n"
   ]
  },
  {
   "cell_type": "code",
   "execution_count": 17,
   "metadata": {
    "_uuid": "03c87e91657c3fdb2ae8bcd095bbcd07e28c8a3d"
   },
   "outputs": [],
   "source": [
    "mod.2<-lm(data$WINS~data$FPCT+data$RS+data$ERA)\n",
    "summary(mod.2)"
   ]
  },
  {
   "cell_type": "code",
   "execution_count": 29,
   "metadata": {
    "_uuid": "2e3dddfc8b77178ce769688f909628d051c9f73b"
   },
   "outputs": [],
   "source": [
    "X.scale<-scale(cbind(data$RS,data$OBP,data$ERA,data$WHIP,data$FPCT,data$DRS,data$wOBA,data$FIP))  \n",
    "##to find the influential observations\n",
    "cooks.distance(mod1)\n",
    "qf(.50,8,21)"
   ]
  },
  {
   "cell_type": "markdown",
   "metadata": {
    "_uuid": "315bd49df70d899c78769e6d0f49948d5be9f201"
   },
   "source": [
    "![Outlier description](http://www2.southeastern.edu/Academics/Faculty/dgurney/Outlier.jpg)"
   ]
  },
  {
   "cell_type": "code",
   "execution_count": 30,
   "metadata": {
    "_uuid": "4b8a498a8d5376ed9f7323c82f144544002a49f5"
   },
   "outputs": [],
   "source": [
    "baseball0<-data\n",
    "datanew<-cbind(baseball0,data$RS,data$ERA,data$FPCT)\n",
    "X<-as.matrix(cbind(datanew$RS,datanew$ERA,datanew$FPCT))\n",
    "Y<-datanew$WINS\n",
    "set.seed(5)\n",
    "n<-dim(datanew)[1]\n",
    "Group1.index<-sample(1:n,round(n/2),replace=F)\n",
    "Group2.index<-setdiff(1:n,Group1.index) \n",
    "Group1.X <- X[Group1.index,]; Group1.Y <- Y[Group1.index]\n",
    "Group2.X <- X[Group2.index,]; Group2.Y <- Y[Group2.index]\n",
    "mod.Group1<-lm(Group1.Y~Group1.X)\n",
    "mod.Group2<-lm(Group2.Y~Group2.X)\n",
    "fitted.Group2 <- cbind(rep(1,length(Group2.index)),Group2.X)%*%mod.Group1$coefficients\n",
    "fitted.Group1 <- cbind(rep(1,length(Group1.index)),Group1.X)%*%mod.Group2$coefficients\n",
    "rsquared.Group2 <- 1 - sum((Group2.Y-fitted.Group2)^2)/sum((Group2.Y-mean(Group2.Y))^2)\n",
    "rsquared.Group1 <- 1 - sum((Group1.Y-fitted.Group1)^2)/sum((Group1.Y-mean(Group1.Y))^2)\n",
    "mean(c(rsquared.Group2,rsquared.Group1))\n",
    "summary(mod.2)"
   ]
  },
  {
   "cell_type": "code",
   "execution_count": 33,
   "metadata": {
    "_uuid": "d14b1ecfa39643e4e2661d181790d2244d66eec8"
   },
   "outputs": [],
   "source": [
    "baseball0<-data\n",
    "datanew<-cbind(baseball0,data$RS,data$ERA)\n",
    "X<-as.matrix(cbind(datanew$RS,datanew$ERA))\n",
    "Y<-datanew$WINS\n",
    "set.seed(5)\n",
    "n<-dim(datanew)[1]\n",
    "Group1.index<-sample(1:n,round(n/2),replace=F)\n",
    "Group2.index<-setdiff(1:n,Group1.index) \n",
    "Group1.X <- X[Group1.index,]; Group1.Y <- Y[Group1.index]\n",
    "Group2.X <- X[Group2.index,]; Group2.Y <- Y[Group2.index]\n",
    "mod.Group1<-lm(Group1.Y~Group1.X)\n",
    "mod.Group2<-lm(Group2.Y~Group2.X)\n",
    "fitted.Group2 <- cbind(rep(1,length(Group2.index)),Group2.X)%*%mod.Group1$coefficients\n",
    "fitted.Group1 <- cbind(rep(1,length(Group1.index)),Group1.X)%*%mod.Group2$coefficients\n",
    "rsquared.Group2 <- 1 - sum((Group2.Y-fitted.Group2)^2)/sum((Group2.Y-mean(Group2.Y))^2)\n",
    "rsquared.Group1 <- 1 - sum((Group1.Y-fitted.Group1)^2)/sum((Group1.Y-mean(Group1.Y))^2)\n",
    "mean(c(rsquared.Group2,rsquared.Group1))\n",
    "mod.3<-lm(data$WINS~data$RS+data$ERA)\n",
    "summary(mod.3)"
   ]
  },
  {
   "cell_type": "code",
   "execution_count": 35,
   "metadata": {
    "_uuid": "6d4ede9b66c1f55cad7c2a4004a262d62da1ae22"
   },
   "outputs": [],
   "source": [
    "mod.3<-lm(data$WINS~data$RS+data$ERA)\n",
    "summary(mod.3)\n",
    "CritVal<-qt(.025,27)\n",
    "c(.07575-CritVal*.01519,.07575+CritVal*.01519)"
   ]
  },
  {
   "cell_type": "code",
   "execution_count": 36,
   "metadata": {
    "_uuid": "78102c0ddc6f78ce0f49fd07f52eeb8199d224e9"
   },
   "outputs": [],
   "source": [
    "c(-17.03099-CritVal*1.99153,-17.03099+CritVal*1.99153)"
   ]
  },
  {
   "cell_type": "code",
   "execution_count": 49,
   "metadata": {
    "_uuid": "ff2b11640e48b989cddb920d83c1d819ff8ac423"
   },
   "outputs": [],
   "source": [
    "mean(data$RS)\n",
    "mean(data$ERA)\n"
   ]
  },
  {
   "cell_type": "code",
   "execution_count": 47,
   "metadata": {
    "_uuid": "13db2a397e713404a25ba2f576604a841c567cbb"
   },
   "outputs": [],
   "source": [
    "predict(mod.3,data.frame(data$RS=mean(data$RS),data$ERA=mean(data$ERA)),interval=\"prediction\",level=0.95)"
   ]
  },
  {
   "cell_type": "markdown",
   "metadata": {
    "_uuid": "517de7e4b2c9ec50a835756f1cc941b22ab3d450"
   },
   "source": [
    "## Explanation\n",
    "Does not want to read the data as a mean. But the average number of wins is 81. And this code should produce a prediction interval of (70.83079, 90.96921)."
   ]
  },
  {
   "cell_type": "code",
   "execution_count": null,
   "metadata": {
    "_uuid": "1692a96c7e8a01591aea05f8b0b378d6be66f6fe"
   },
   "outputs": [],
   "source": []
  }
 ],
 "metadata": {
  "kernelspec": {
   "display_name": "Python 3",
   "language": "python",
   "name": "python3"
  },
  "language_info": {
   "codemirror_mode": {
    "name": "ipython",
    "version": 3
   },
   "file_extension": ".py",
   "mimetype": "text/x-python",
   "name": "python",
   "nbconvert_exporter": "python",
   "pygments_lexer": "ipython3",
   "version": "3.8.3"
  }
 },
 "nbformat": 4,
 "nbformat_minor": 1
}
